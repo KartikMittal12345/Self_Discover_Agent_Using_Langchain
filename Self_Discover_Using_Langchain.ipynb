{
  "nbformat": 4,
  "nbformat_minor": 0,
  "metadata": {
    "colab": {
      "provenance": []
    },
    "kernelspec": {
      "name": "python3",
      "display_name": "Python 3"
    },
    "language_info": {
      "name": "python"
    }
  },
  "cells": [
    {
      "cell_type": "code",
      "execution_count": null,
      "metadata": {
        "id": "1-E7sPcJrI8i"
      },
      "outputs": [],
      "source": [
        "%%capture --no-stderr\n",
        "%pip install -U langgraph langchain-community langchain-anthropic tavily-python pandas  langchain_groq langchain_fireworks"
      ]
    },
    {
      "cell_type": "code",
      "source": [
        "import os\n",
        "from google.colab import userdata\n",
        "\n",
        "os.environ[\"OPENAI_API_KEY\"] = userdata.get(\"OPENAI_API_KEY\")\n",
        "os.environ[\"GROQ_API_KEY\"] = userdata.get(\"GROQ_API_KEY\")\n",
        "os.environ[\"LANGCHAIN_API_KEY\"] = userdata.get(\"LANGCHAIN_API_KEY\")\n",
        "os.environ[\"LANGCHAIN_PROJECT\"] = \"Self_Discover_Agent\"\n",
        "os.environ[\"LANGCHAIN_TRACING_V2\"] = \"true\"\n",
        "os.environ[\"ANTHROPIC_API_KEY\"] = userdata.get(\"ANTHROPIC_API_KEY\")\n",
        "os.environ[\"SCRAPYBARA_API_KEY\"] = userdata.get(\"SCRAPYBARA_API_KEY\")\n",
        "os.environ[\"TAVILY_API_KEY\"] = userdata.get(\"TAVILY_API_KEY\")\n",
        "os.environ[\"FIREWORKS_API_KEY\"] = userdata.get(\"FIREWORKS_API_KEY\")\n",
        "from langchain import hub\n",
        "from langchain_groq import ChatGroq\n",
        "from langchain.agents import create_openai_functions_agent\n",
        "\n",
        "llm = ChatGroq(model_name = \"llama3-70b-8192\",api_key = os.environ[\"GROQ_API_KEY\"])\n",
        "\n"
      ],
      "metadata": {
        "id": "G7k9CTSqreoc"
      },
      "execution_count": null,
      "outputs": []
    },
    {
      "cell_type": "code",
      "source": [
        "from langchain_fireworks import ChatFireworks\n",
        "llm1 = ChatFireworks(model=\"account/fireworks/models/mixtral-8x7b-instruct\",max_tokens=32768)"
      ],
      "metadata": {
        "id": "ieciUkPHr4Qf"
      },
      "execution_count": null,
      "outputs": []
    },
    {
      "cell_type": "code",
      "source": [
        "from langchain import hub\n",
        "\n",
        "select_prompt = hub.pull(\"hwchase17/self-discovery-select\")\n",
        "print(\"Self-Discovery Select Prompt:\")\n",
        "\n",
        "select_prompt.pretty_print()"
      ],
      "metadata": {
        "colab": {
          "base_uri": "https://localhost:8080/"
        },
        "id": "mTcQF5Y4rv66",
        "outputId": "e7e4e1c0-d90a-4b5f-effa-2a40d8ebc114"
      },
      "execution_count": null,
      "outputs": [
        {
          "output_type": "stream",
          "name": "stdout",
          "text": [
            "Self-Discovery Select Prompt:\n",
            "Select several reasoning modules that are crucial to utilize in order to solve the given task:\n",
            "\n",
            "All reasoning module descriptions:\n",
            "\u001b[33;1m\u001b[1;3m{reasoning_modules}\u001b[0m\n",
            "\n",
            "Task: \u001b[33;1m\u001b[1;3m{task_description}\u001b[0m\n",
            "\n",
            "Select several modules are crucial for solving the task above:\n",
            "\n"
          ]
        }
      ]
    },
    {
      "cell_type": "code",
      "source": [
        "adapt_prompt = hub.pull(\"hwchase17/self-discovery-adapt\")\n",
        "print(\"Self-Discovery Adapt Prompt:\")\n",
        "adapt_prompt.pretty_print()"
      ],
      "metadata": {
        "colab": {
          "base_uri": "https://localhost:8080/"
        },
        "id": "6B5zKvSxuMzX",
        "outputId": "9f9f404b-b52b-4468-ff2a-137298e75585"
      },
      "execution_count": null,
      "outputs": [
        {
          "output_type": "stream",
          "name": "stdout",
          "text": [
            "Self-Discovery Adapt Prompt:\n",
            "Rephrase and specify each reasoning module so that it better helps solving the task:\n",
            "\n",
            "SELECTED module descriptions:\n",
            "\u001b[33;1m\u001b[1;3m{selected_modules}\u001b[0m\n",
            "\n",
            "Task: \u001b[33;1m\u001b[1;3m{task_description}\u001b[0m\n",
            "\n",
            "Adapt each reasoning module description to better solve the task:\n",
            "\n"
          ]
        }
      ]
    },
    {
      "cell_type": "code",
      "source": [
        "structured_prompt = hub.pull(\"hwchase17/self-discovery-structure\")\n",
        "print(\"Self-Discovery Structured Prompt:\")\n",
        "structured_prompt.pretty_print()"
      ],
      "metadata": {
        "colab": {
          "base_uri": "https://localhost:8080/"
        },
        "id": "Ld8bSsoduen_",
        "outputId": "c405f405-0eb1-485a-98ac-851fdf90e935"
      },
      "execution_count": null,
      "outputs": [
        {
          "output_type": "stream",
          "name": "stdout",
          "text": [
            "Self-Discovery Structured Prompt:\n",
            "Operationalize the reasoning modules into a step-by-step reasoning plan in JSON format:\n",
            "\n",
            "Here's an example:\n",
            "\n",
            "Example task:\n",
            "\n",
            "If you follow these instructions, do you return to the starting point? Always face forward. Take 1 step backward. Take 9 steps left. Take 2 steps backward. Take 6 steps forward. Take 4 steps forward. Take 4 steps backward. Take 3 steps right.\n",
            "\n",
            "Example reasoning structure:\n",
            "\n",
            "{\n",
            "    \"Position after instruction 1\":\n",
            "    \"Position after instruction 2\":\n",
            "    \"Position after instruction n\":\n",
            "    \"Is final position the same as starting position\":\n",
            "}\n",
            "\n",
            "Adapted module description:\n",
            "\u001b[33;1m\u001b[1;3m{adapted_modules}\u001b[0m\n",
            "\n",
            "Task: \u001b[33;1m\u001b[1;3m{task_description}\u001b[0m\n",
            "\n",
            "Implement a reasoning structure for solvers to follow step-by-step and arrive at correct answer.\n",
            "\n",
            "Note: do NOT actually arrive at a conclusion in this pass. Your job is to generate a PLAN so that in the future you can fill it out and arrive at the correct conclusion for tasks like this\n"
          ]
        }
      ]
    },
    {
      "cell_type": "code",
      "source": [
        "from langchain import hub\n",
        "\n",
        "select_prompt = hub.pull(\"hwchase17/self-discovery-select\")\n",
        "print(\"Self-Discovery Select Prompt:\")\n",
        "select_prompt.pretty_print()\n",
        "print(\"Self-Discovery Select Response:\")\n",
        "adapt_prompt = hub.pull(\"hwchase17/self-discovery-adapt\")\n",
        "adapt_prompt.pretty_print()\n",
        "structured_prompt = hub.pull(\"hwchase17/self-discovery-structure\")\n",
        "print(\"Self-Discovery Structured Prompt:\")\n",
        "structured_prompt.pretty_print()\n",
        "reasoning_prompt = hub.pull(\"hwchase17/self-discovery-reasoning\")\n",
        "print(\"Self-Discovery Structured Response:\")\n",
        "reasoning_prompt.pretty_print()"
      ],
      "metadata": {
        "colab": {
          "base_uri": "https://localhost:8080/"
        },
        "collapsed": true,
        "id": "wWmyjxIM2EzN",
        "outputId": "d323fea7-f615-42b3-aa67-072f2d18f812"
      },
      "execution_count": null,
      "outputs": [
        {
          "output_type": "stream",
          "name": "stdout",
          "text": [
            "Self-Discovery Select Prompt:\n",
            "Select several reasoning modules that are crucial to utilize in order to solve the given task:\n",
            "\n",
            "All reasoning module descriptions:\n",
            "\u001b[33;1m\u001b[1;3m{reasoning_modules}\u001b[0m\n",
            "\n",
            "Task: \u001b[33;1m\u001b[1;3m{task_description}\u001b[0m\n",
            "\n",
            "Select several modules are crucial for solving the task above:\n",
            "\n",
            "Self-Discovery Select Response:\n",
            "Rephrase and specify each reasoning module so that it better helps solving the task:\n",
            "\n",
            "SELECTED module descriptions:\n",
            "\u001b[33;1m\u001b[1;3m{selected_modules}\u001b[0m\n",
            "\n",
            "Task: \u001b[33;1m\u001b[1;3m{task_description}\u001b[0m\n",
            "\n",
            "Adapt each reasoning module description to better solve the task:\n",
            "\n",
            "Self-Discovery Structured Prompt:\n",
            "Operationalize the reasoning modules into a step-by-step reasoning plan in JSON format:\n",
            "\n",
            "Here's an example:\n",
            "\n",
            "Example task:\n",
            "\n",
            "If you follow these instructions, do you return to the starting point? Always face forward. Take 1 step backward. Take 9 steps left. Take 2 steps backward. Take 6 steps forward. Take 4 steps forward. Take 4 steps backward. Take 3 steps right.\n",
            "\n",
            "Example reasoning structure:\n",
            "\n",
            "{\n",
            "    \"Position after instruction 1\":\n",
            "    \"Position after instruction 2\":\n",
            "    \"Position after instruction n\":\n",
            "    \"Is final position the same as starting position\":\n",
            "}\n",
            "\n",
            "Adapted module description:\n",
            "\u001b[33;1m\u001b[1;3m{adapted_modules}\u001b[0m\n",
            "\n",
            "Task: \u001b[33;1m\u001b[1;3m{task_description}\u001b[0m\n",
            "\n",
            "Implement a reasoning structure for solvers to follow step-by-step and arrive at correct answer.\n",
            "\n",
            "Note: do NOT actually arrive at a conclusion in this pass. Your job is to generate a PLAN so that in the future you can fill it out and arrive at the correct conclusion for tasks like this\n",
            "Self-Discovery Structured Response:\n",
            "Follow the step-by-step reasoning plan in JSON to correctly solve the task. Fill in the values following the keys by reasoning specifically about the task given. Do not simply rephrase the keys.\n",
            "    \n",
            "Reasoning Structure:\n",
            "\u001b[33;1m\u001b[1;3m{reasoning_structure}\u001b[0m\n",
            "\n",
            "Task: \u001b[33;1m\u001b[1;3m{task_description}\u001b[0m\n"
          ]
        }
      ]
    },
    {
      "cell_type": "code",
      "source": [
        "reasoning_prompt = hub.pull(\"hwchase17/self-discovery-reasoning\")\n",
        "print(\"Self-Discovery Reasoning Prompt:\")\n",
        "adapt_prompt.pretty_print()"
      ],
      "metadata": {
        "colab": {
          "base_uri": "https://localhost:8080/"
        },
        "collapsed": true,
        "id": "9RjurATlui3e",
        "outputId": "557e1f68-cf92-4326-d1fd-0afa240c79d5"
      },
      "execution_count": null,
      "outputs": [
        {
          "output_type": "stream",
          "name": "stdout",
          "text": [
            "Self-Discovery Reasoning Prompt:\n",
            "Operationalize the reasoning modules into a step-by-step reasoning plan in JSON format:\n",
            "\n",
            "Here's an example:\n",
            "\n",
            "Example task:\n",
            "\n",
            "If you follow these instructions, do you return to the starting point? Always face forward. Take 1 step backward. Take 9 steps left. Take 2 steps backward. Take 6 steps forward. Take 4 steps forward. Take 4 steps backward. Take 3 steps right.\n",
            "\n",
            "Example reasoning structure:\n",
            "\n",
            "{\n",
            "    \"Position after instruction 1\":\n",
            "    \"Position after instruction 2\":\n",
            "    \"Position after instruction n\":\n",
            "    \"Is final position the same as starting position\":\n",
            "}\n",
            "\n",
            "Adapted module description:\n",
            "\u001b[33;1m\u001b[1;3m{adapted_modules}\u001b[0m\n",
            "\n",
            "Task: \u001b[33;1m\u001b[1;3m{task_description}\u001b[0m\n",
            "\n",
            "Implement a reasoning structure for solvers to follow step-by-step and arrive at correct answer.\n",
            "\n",
            "Note: do NOT actually arrive at a conclusion in this pass. Your job is to generate a PLAN so that in the future you can fill it out and arrive at the correct conclusion for tasks like this\n"
          ]
        }
      ]
    },
    {
      "cell_type": "code",
      "source": [
        "from typing import Optional\n",
        "from typing_extensions import TypedDict\n",
        "from langgraph.graph import START,END,StateGraph\n",
        "from langchain_core.prompts import ChatPromptTemplate\n",
        "from langchain_core.output_parsers import StrOutputParser\n",
        "output_parsers = StrOutputParser()\n",
        "\n",
        "class SelfDiscoveryState(TypedDict):\n",
        "  reasoning_modules : str\n",
        "  task_description : str\n",
        "  selected_modules : Optional[str]\n",
        "  adapted_modules :Optional[str]\n",
        "  reasoning_structure : Optional[str]\n",
        "  answer: Optional[str]\n",
        "\n",
        "model = llm\n",
        "\n",
        "\n",
        "def select(inputs):\n",
        "  select_chain = select_prompt | model | output_parsers\n",
        "  return {\"selected_modules\":select_chain.invoke(inputs)}\n",
        "\n",
        "\n",
        "def adapt(inputs):\n",
        "  adapt_chain = adapt_prompt | model | output_parsers\n",
        "  return {\"adapted_modules\":adapt_chain.invoke(inputs)}\n",
        "\n",
        "\n",
        "\n",
        "def structure(inputs):\n",
        "  structure_chain = structured_prompt | model | output_parsers\n",
        "  return {\"reasoning_structure\":structure_chain.invoke(inputs)}\n",
        "\n",
        "\n",
        "def reasoning(inputs):\n",
        "  reasoning_chain = reasoning_prompt | model | output_parsers\n",
        "  return {\"answer\":reasoning_chain.invoke(inputs)}\n",
        "\n",
        "\n",
        "\n",
        "graph = StateGraph(SelfDiscoveryState)\n",
        "\n",
        "graph.add_node(select)\n",
        "\n",
        "graph.add_node(adapt)\n",
        "\n",
        "graph.add_node(structure)\n",
        "\n",
        "graph.add_node(reasoning)\n",
        "\n",
        "\n",
        "graph.add_edge(START,\"select\")\n",
        "\n",
        "\n",
        "graph.add_edge(\"select\",\"adapt\")\n",
        "\n",
        "graph.add_edge(\"adapt\",\"structure\")\n",
        "\n",
        "graph.add_edge(\"structure\",\"reasoning\")\n",
        "\n",
        "graph.add_edge(\"reasoning\",END)\n",
        "\n",
        "\n",
        "app = graph.compile()"
      ],
      "metadata": {
        "id": "y41X3ts3u3Ek"
      },
      "execution_count": null,
      "outputs": []
    },
    {
      "cell_type": "code",
      "source": [
        "! pip install IPython"
      ],
      "metadata": {
        "collapsed": true,
        "colab": {
          "base_uri": "https://localhost:8080/"
        },
        "id": "DMOERkRD0iNv",
        "outputId": "d68287a0-fafc-45df-ef78-212ed2b3d478"
      },
      "execution_count": null,
      "outputs": [
        {
          "output_type": "stream",
          "name": "stdout",
          "text": [
            "Requirement already satisfied: IPython in /usr/local/lib/python3.11/dist-packages (7.34.0)\n",
            "Requirement already satisfied: setuptools>=18.5 in /usr/local/lib/python3.11/dist-packages (from IPython) (75.1.0)\n",
            "Collecting jedi>=0.16 (from IPython)\n",
            "  Downloading jedi-0.19.2-py2.py3-none-any.whl.metadata (22 kB)\n",
            "Requirement already satisfied: decorator in /usr/local/lib/python3.11/dist-packages (from IPython) (4.4.2)\n",
            "Requirement already satisfied: pickleshare in /usr/local/lib/python3.11/dist-packages (from IPython) (0.7.5)\n",
            "Requirement already satisfied: traitlets>=4.2 in /usr/local/lib/python3.11/dist-packages (from IPython) (5.7.1)\n",
            "Requirement already satisfied: prompt-toolkit!=3.0.0,!=3.0.1,<3.1.0,>=2.0.0 in /usr/local/lib/python3.11/dist-packages (from IPython) (3.0.50)\n",
            "Requirement already satisfied: pygments in /usr/local/lib/python3.11/dist-packages (from IPython) (2.18.0)\n",
            "Requirement already satisfied: backcall in /usr/local/lib/python3.11/dist-packages (from IPython) (0.2.0)\n",
            "Requirement already satisfied: matplotlib-inline in /usr/local/lib/python3.11/dist-packages (from IPython) (0.1.7)\n",
            "Requirement already satisfied: pexpect>4.3 in /usr/local/lib/python3.11/dist-packages (from IPython) (4.9.0)\n",
            "Requirement already satisfied: parso<0.9.0,>=0.8.4 in /usr/local/lib/python3.11/dist-packages (from jedi>=0.16->IPython) (0.8.4)\n",
            "Requirement already satisfied: ptyprocess>=0.5 in /usr/local/lib/python3.11/dist-packages (from pexpect>4.3->IPython) (0.7.0)\n",
            "Requirement already satisfied: wcwidth in /usr/local/lib/python3.11/dist-packages (from prompt-toolkit!=3.0.0,!=3.0.1,<3.1.0,>=2.0.0->IPython) (0.2.13)\n",
            "Downloading jedi-0.19.2-py2.py3-none-any.whl (1.6 MB)\n",
            "\u001b[2K   \u001b[90m━━━━━━━━━━━━━━━━━━━━━━━━━━━━━━━━━━━━━━━━\u001b[0m \u001b[32m1.6/1.6 MB\u001b[0m \u001b[31m28.0 MB/s\u001b[0m eta \u001b[36m0:00:00\u001b[0m\n",
            "\u001b[?25hInstalling collected packages: jedi\n",
            "Successfully installed jedi-0.19.2\n"
          ]
        }
      ]
    },
    {
      "cell_type": "code",
      "source": [
        "from IPython.display import Image,display\n",
        "\n",
        "display(Image(app.get_graph().draw_mermaid_png()))"
      ],
      "metadata": {
        "colab": {
          "base_uri": "https://localhost:8080/",
          "height": 548
        },
        "id": "om3i5ceY0WFz",
        "outputId": "afdfa398-495c-421e-d8b2-ee367c9e249c"
      },
      "execution_count": null,
      "outputs": [
        {
          "output_type": "display_data",
          "data": {
            "image/png": "[encoded data removed]",
            "text/plain": [
              "<IPython.core.display.Image object>"
            ]
          },
          "metadata": {}
        }
      ]
    },
    {
      "cell_type": "code",
      "source": [
        "reasoning_modules = [\n",
        "    \"1. How could I devise an experiment to help solve that problem?\",\n",
        "    \"2. Make a list of ideas for solving this problem, and apply them one by one to the problem to see if any progress can be made.\",\n",
        "    # \"3. How could I measure progress on this problem?\",\n",
        "    \"4. How can I simplify the problem so that it is easier to solve?\",\n",
        "    \"5. What are the key assumptions underlying this problem?\",\n",
        "    \"6. What are the potential risks and drawbacks of each solution?\",\n",
        "    \"7. What are the alternative perspectives or viewpoints on this problem?\",\n",
        "    \"8. What are the long-term implications of this problem and its solutions?\",\n",
        "    \"9. How can I break down this problem into smaller, more manageable parts?\",\n",
        "    \"10. Critical Thinking: This style involves analyzing the problem from different perspectives, questioning assumptions, and evaluating the evidence or information available. It focuses on logical reasoning, evidence-based decision-making, and identifying potential biases or flaws in thinking.\",\n",
        "    \"11. Try creative thinking, generate innovative and out-of-the-box ideas to solve the problem. Explore unconventional solutions, thinking beyond traditional boundaries, and encouraging imagination and originality.\",\n",
        "    # \"12. Seek input and collaboration from others to solve the problem. Emphasize teamwork, open communication, and leveraging the diverse perspectives and expertise of a group to come up with effective solutions.\",\n",
        "    \"13. Use systems thinking: Consider the problem as part of a larger system and understanding the interconnectedness of various elements. Focuses on identifying the underlying causes, feedback loops, and interdependencies that influence the problem, and developing holistic solutions that address the system as a whole.\",\n",
        "    \"14. Use Risk Analysis: Evaluate potential risks, uncertainties, and tradeoffs associated with different solutions or approaches to a problem. Emphasize assessing the potential consequences and likelihood of success or failure, and making informed decisions based on a balanced analysis of risks and benefits.\",\n",
        "    # \"15. Use Reflective Thinking: Step back from the problem, take the time for introspection and self-reflection. Examine personal biases, assumptions, and mental models that may influence problem-solving, and being open to learning from past experiences to improve future approaches.\",\n",
        "    \"16. What is the core issue or problem that needs to be addressed?\",\n",
        "    \"17. What are the underlying causes or factors contributing to the problem?\",\n",
        "    \"18. Are there any potential solutions or strategies that have been tried before? If yes, what were the outcomes and lessons learned?\",\n",
        "    \"19. What are the potential obstacles or challenges that might arise in solving this problem?\",\n",
        "    \"20. Are there any relevant data or information that can provide insights into the problem? If yes, what data sources are available, and how can they be analyzed?\",\n",
        "    \"21. Are there any stakeholders or individuals who are directly affected by the problem? What are their perspectives and needs?\",\n",
        "    \"22. What resources (financial, human, technological, etc.) are needed to tackle the problem effectively?\",\n",
        "    \"23. How can progress or success in solving the problem be measured or evaluated?\",\n",
        "    \"24. What indicators or metrics can be used?\",\n",
        "    \"25. Is the problem a technical or practical one that requires a specific expertise or skill set? Or is it more of a conceptual or theoretical problem?\",\n",
        "    \"26. Does the problem involve a physical constraint, such as limited resources, infrastructure, or space?\",\n",
        "    \"27. Is the problem related to human behavior, such as a social, cultural, or psychological issue?\",\n",
        "    \"28. Does the problem involve decision-making or planning, where choices need to be made under uncertainty or with competing objectives?\",\n",
        "    \"29. Is the problem an analytical one that requires data analysis, modeling, or optimization techniques?\",\n",
        "    \"30. Is the problem a design challenge that requires creative solutions and innovation?\",\n",
        "    \"31. Does the problem require addressing systemic or structural issues rather than just individual instances?\",\n",
        "    \"32. Is the problem time-sensitive or urgent, requiring immediate attention and action?\",\n",
        "    \"33. What kinds of solution typically are produced for this kind of problem specification?\",\n",
        "    \"34. Given the problem specification and the current best solution, have a guess about other possible solutions.\"\n",
        "    \"35. Let’s imagine the current best solution is totally wrong, what other ways are there to think about the problem specification?\"\n",
        "    \"36. What is the best way to modify this current best solution, given what you know about these kinds of problem specification?\"\n",
        "    \"37. Ignoring the current best solution, create an entirely new solution to the problem.\"\n",
        "    # \"38. Let’s think step by step.\"\n",
        "    \"39. Let’s make a step by step plan and implement it with good notation and explanation.\",\n",
        "]\n",
        "\n"
      ],
      "metadata": {
        "id": "9xc6UNYM09yI"
      },
      "execution_count": null,
      "outputs": []
    },
    {
      "cell_type": "code",
      "source": [
        "task_example = \"Lisa has 10 apples. She gives 3 apples to her friend and then buys 5 more apples from the store. How many apples does Lisa have now?\"\n",
        "\n",
        "task_example = \"\"\"This SVG path element <path d=\"M 55.57,80.69 L 57.38,65.80 M 57.38,65.80 L 48.90,57.46 M 48.90,57.46 L\n",
        "45.58,47.78 M 45.58,47.78 L 53.25,36.07 L 66.29,48.90 L 78.69,61.09 L 55.57,80.69\"/> draws a:\n",
        "(A) circle (B) heptagon (C) hexagon (D) kite (E) line (F) octagon (G) pentagon(H) rectangle (I) sector (J) triangle\"\"\"\n",
        "\n",
        "reasoning_modules_str = \"\\n\".join(reasoning_modules)\n",
        "\n",
        "for s in app.stream(\n",
        "    {\"task_description\": task_example, \"reasoning_modules\": reasoning_modules_str}\n",
        "):\n",
        "    print(s)"
      ],
      "metadata": {
        "colab": {
          "base_uri": "https://localhost:8080/"
        },
        "id": "S3wCNAUp1CwR",
        "outputId": "f229c9dc-a98b-4dd9-ee86-3cc1d79e02d6"
      },
      "execution_count": null,
      "outputs": [
        {
          "output_type": "stream",
          "name": "stdout",
          "text": [
            "{'select': {'selected_modules': 'Based on the task, I would select the following reasoning modules as crucial for solving the task:\\n\\n1. **What is the core issue or problem that needs to be addressed?** (Module 16): This module helps to clarify the problem and understand what needs to be solved.\\n\\n2. **How can I break down this problem into smaller, more manageable parts?** (Module 9): Breaking down the problem into smaller parts, such as analyzing the SVG path element, can help to identify the shape being drawn.\\n\\n3. **What are the relevant data or information that can provide insights into the problem?** (Module 20): In this case, the relevant data is the SVG path element, which provides the coordinates and instructions for drawing the shape.\\n\\n4. **Critical Thinking: This style involves analyzing the problem from different perspectives, questioning assumptions, and evaluating the evidence or information available.** (Module 10): Critical thinking is essential to analyze the SVG path element, understand the instructions, and identify the shape being drawn.\\n\\n5. **Let’s make a step by step plan and implement it with good notation and explanation.** (Module 39): This module can help to create a step-by-step plan to analyze the SVG path element, identify the shape, and provide a clear explanation of the solution.\\n\\nThese modules are crucial because they help to clarify the problem, break it down into manageable parts, analyze the relevant data, think critically, and create a step-by-step plan to solve the task.'}}\n",
            "{'adapt': {'adapted_modules': \"Here are the rephrased and specified reasoning module descriptions to better help solve the task:\\n\\n1. **What is the core issue or problem that needs to be addressed, and what are the key elements in the SVG path element that can help identify the shape?** (Module 16): This module helps to clarify the problem, identify the key elements in the SVG path element, and understand what needs to be solved to determine the shape being drawn.\\n\\n2. **How can I break down the SVG path element into smaller, more manageable parts, and what do each of these parts represent in terms of the shape's structure?** (Module 9): Breaking down the SVG path element into smaller parts, such as individual lines and coordinates, can help to identify the shape's structure and its components.\\n\\n3. **What are the relevant data or information in the SVG path element that can provide insights into the shape being drawn, and how can I extract and analyze these data points?** (Module 20): In this case, the relevant data is the sequence of coordinates and instructions in the SVG path element, which provides the necessary information to identify the shape being drawn.\\n\\n4. **Critical Thinking: How can I analyze the SVG path element from different perspectives, questioning assumptions about the shape's structure, and evaluating the evidence or information available to determine the correct shape?** (Module 10): Critical thinking is essential to analyze the SVG path element, understand the instructions, and identify the shape being drawn, considering alternative possibilities and eliminating incorrect options.\\n\\n5. **Let’s create a step-by-step plan to analyze the SVG path element, identify the shape, and provide a clear explanation of the solution, including visualizing the shape and checking its properties.** (Module 39): This module can help to create a step-by-step plan to analyze the SVG path element, identify the shape, and provide a clear explanation of the solution, including checking the shape's properties and visualizing it to ensure accuracy.\\n\\nThese rephrased module descriptions are more specific to the task and can help to better solve the problem by breaking down the SVG path element, analyzing the relevant data, thinking critically, and creating a step-by-step plan to identify the shape being drawn.\"}}\n",
            "{'structure': {'reasoning_structure': 'Here is a step-by-step reasoning plan in JSON format to help solvers arrive at the correct answer:\\n\\n```\\n{\\n  \"Understand the problem\":\\n  {\\n    \"Task\": \"Identify the shape drawn by the SVG path element\",\\n    \"SVG path element\": \"<path d=\\\\\"M 55.57,80.69 L 57.38,65.80 M 57.38,65.80 L 48.90,57.46 M 48.90,57.46 L 45.58,47.78 M 45.58,47.78 L 53.25,36.07 L 66.29,48.90 L 78.69,61.09 L 55.57,80.69\\\\\"/>\"\\n  },\\n\\n  \"Break down the SVG path element\":\\n  {\\n    \"Number of instructions\": null,\\n    \"Instruction 1\": null,\\n    \"Instruction 2\": null,\\n    ...\\n    \"Instruction n\": null\\n  },\\n\\n  \"Analyze each instruction\":\\n  {\\n    \"Instruction 1\":\\n    {\\n      \"Type\": null,\\n      \"Coordinates\": null,\\n      \"Effect on shape\": null\\n    },\\n    \"Instruction 2\":\\n    {\\n      \"Type\": null,\\n      \"Coordinates\": null,\\n      \"Effect on shape\": null\\n    },\\n    ...\\n    \"Instruction n\":\\n    {\\n      \"Type\": null,\\n      \"Coordinates\": null,\\n      \"Effect on shape\": null\\n    }\\n  },\\n\\n  \"Identify the shape\\'s structure\":\\n  {\\n    \"Number of sides\": null,\\n    \"Number of right angles\": null,\\n    \"Symmetry\": null,\\n    \"Other relevant features\": null\\n  },\\n\\n  \"Evaluate evidence and eliminate incorrect options\":\\n  {\\n    \"Is it a circle?\": null,\\n    \"Is it a heptagon?\": null,\\n    \"Is it a hexagon?\": null,\\n    ...\\n    \"Is it a triangle?\": null\\n  },\\n\\n  \"Create a visualization of the shape\":\\n  {\\n    \"Visual representation\": null,\\n    \"Properties of the shape\": null\\n  },\\n\\n  \"Check the final answer\":\\n  {\\n    \"Is the final answer correct?\": null,\\n    \"Explanation for the answer\": null\\n  }\\n}\\n```\\n\\nThis plan breaks down the task into smaller, manageable parts, and guides solvers to analyze the SVG path element, identify the shape\\'s structure, evaluate evidence, and eliminate incorrect options to arrive at the correct answer.'}}\n",
            "{'reasoning': {'answer': 'Here is the completed reasoning plan:\\n\\n```\\n{\\n  \"Understand the problem\":\\n  {\\n    \"Task\": \"Identify the shape drawn by the SVG path element\",\\n    \"SVG path element\": \"<path d=\\\\\"M 55.57,80.69 L 57.38,65.80 M 57.38,65.80 L 48.90,57.46 M 48.90,57.46 L 45.58,47.78 M 45.58,47.78 L 53.25,36.07 L 66.29,48.90 L 78.69,61.09 L 55.57,80.69\\\\\"/>\"\\n  },\\n\\n  \"Break down the SVG path element\":\\n  {\\n    \"Number of instructions\": 8,\\n    \"Instruction 1\": \"M 55.57,80.69\",\\n    \"Instruction 2\": \"L 57.38,65.80\",\\n    \"Instruction 3\": \"M 57.38,65.80 L 48.90,57.46\",\\n    \"Instruction 4\": \"M 48.90,57.46 L 45.58,47.78\",\\n    \"Instruction 5\": \"M 45.58,47.78 L 53.25,36.07\",\\n    \"Instruction 6\": \"L 66.29,48.90\",\\n    \"Instruction 7\": \"L 78.69,61.09\",\\n    \"Instruction 8\": \"L 55.57,80.69\"\\n  },\\n\\n  \"Analyze each instruction\":\\n  {\\n    \"Instruction 1\":\\n    {\\n      \"Type\": \"Move to\",\\n      \"Coordinates\": \"55.57,80.69\",\\n      \"Effect on shape\": \"Starts the shape at this point\"\\n    },\\n    \"Instruction 2\":\\n    {\\n      \"Type\": \"Line to\",\\n      \"Coordinates\": \"57.38,65.80\",\\n      \"Effect on shape\": \"Draws a line from the start point to this point\"\\n    },\\n    \"Instruction 3\":\\n    {\\n      \"Type\": \"Move to\",\\n      \"Coordinates\": \"57.38,65.80\",\\n      \"Effect on shape\": \"Moves to this point (no change)\"\\n    },\\n    \"Instruction 4\":\\n    {\\n      \"Type\": \"Line to\",\\n      \"Coordinates\": \"48.90,57.46\",\\n      \"Effect on shape\": \"Draws a line from the current point to this point\"\\n    },\\n    \"Instruction 5\":\\n    {\\n      \"Type\": \"Move to\",\\n      \"Coordinates\": \"45.58,47.78\",\\n      \"Effect on shape\": \"Moves to this point (no change)\"\\n    },\\n    \"Instruction 6\":\\n    {\\n      \"Type\": \"Line to\",\\n      \"Coordinates\": \"53.25,36.07\",\\n      \"Effect on shape\": \"Draws a line from the current point to this point\"\\n    },\\n    \"Instruction 7\":\\n    {\\n      \"Type\": \"Line to\",\\n      \"Coordinates\": \"66.29,48.90\",\\n      \"Effect on shape\": \"Draws a line from the current point to this point\"\\n    },\\n    \"Instruction 8\":\\n    {\\n      \"Type\": \"Line to\",\\n      \"Coordinates\": \"78.69,61.09\",\\n      \"Effect on shape\": \"Draws a line from the current point to this point, and then closes the shape\"\\n    }\\n  },\\n\\n  \"Identify the shape\\'s structure\":\\n  {\\n    \"Number of sides\": 6,\\n    \"Number of right angles\": 0,\\n    \"Symmetry\": \"Rotational symmetry\",\\n    \"Other relevant features\": \"All sides are not equal\"\\n  },\\n\\n  \"Evaluate evidence and eliminate incorrect options\":\\n  {\\n    \"Is it a circle?\": \"No, it has 6 sides\",\\n    \"Is it a heptagon?\": \"No, it has 6 sides\",\\n    \"Is it a hexagon?\": \"Yes, it has 6 sides and rotational symmetry\",\\n    \"Is it a kite?\": \"No, it has 6 sides and no right angles\",\\n    \"Is it a line?\": \"No, it has multiple sides\",\\n    \"Is it an octagon?\": \"No, it has 6 sides\",\\n    \"Is it a pentagon?\": \"No, it has 6 sides\",\\n    \"Is it a rectangle?\": \"No, it has 6 sides and no right angles\",\\n    \"Is it a sector?\": \"No, it is a complete shape\",\\n    \"Is it a triangle?\": \"No, it has 6 sides\"\\n  },\\n\\n  \"Create a visualization of the shape\":\\n  {\\n    \"Visual representation\": \"A hexagon with unequal sides and rotational symmetry\",\\n    \"Properties of the shape\": \"It has 6 sides, no right angles, and rotational symmetry\"\\n  },\\n\\n  \"Check the final answer\":\\n  {\\n    \"Is the final answer correct?\": \"Yes\",\\n    \"Explanation for the answer\": \"The shape has 6 sides, no right angles, and rotational symmetry, which matches the definition of a hexagon.\"\\n  }\\n}\\n```\\n\\nThe correct answer is (C) hexagon.'}}\n"
          ]
        }
      ]
    },
    {
      "cell_type": "code",
      "source": [
        "! pip install sklearn"
      ],
      "metadata": {
        "colab": {
          "base_uri": "https://localhost:8080/"
        },
        "id": "-jYSghYn4rKd",
        "outputId": "4a18fdd4-f100-4610-dcb2-ad0397ed26a2"
      },
      "execution_count": null,
      "outputs": [
        {
          "output_type": "stream",
          "name": "stdout",
          "text": [
            "Collecting sklearn\n",
            "  Downloading sklearn-0.0.post12.tar.gz (2.6 kB)\n",
            "  \u001b[1;31merror\u001b[0m: \u001b[1msubprocess-exited-with-error\u001b[0m\n",
            "  \n",
            "  \u001b[31m×\u001b[0m \u001b[32mpython setup.py egg_info\u001b[0m did not run successfully.\n",
            "  \u001b[31m│\u001b[0m exit code: \u001b[1;36m1\u001b[0m\n",
            "  \u001b[31m╰─>\u001b[0m See above for output.\n",
            "  \n",
            "  \u001b[1;35mnote\u001b[0m: This error originates from a subprocess, and is likely not a problem with pip.\n",
            "  Preparing metadata (setup.py) ... \u001b[?25l\u001b[?25herror\n",
            "\u001b[1;31merror\u001b[0m: \u001b[1mmetadata-generation-failed\u001b[0m\n",
            "\n",
            "\u001b[31m×\u001b[0m Encountered error while generating package metadata.\n",
            "\u001b[31m╰─>\u001b[0m See above for output.\n",
            "\n",
            "\u001b[1;35mnote\u001b[0m: This is an issue with the package mentioned above, not pip.\n",
            "\u001b[1;36mhint\u001b[0m: See above for details.\n"
          ]
        }
      ]
    },
    {
      "cell_type": "code",
      "source": [
        "from sklearn.feature_extraction.text import TfidfVectorizer\n",
        "from sklearn.feature_extraction.text import CountVectorizer\n",
        "\n",
        "corpus = [\n",
        "    \"I want to learn AI\",\n",
        "    \"I am Learning about llm\",\n",
        "    \"I Hate My College\"\n",
        "]\n",
        "\n",
        "vectorizer = CountVectorizer()\n",
        "\n",
        "x = vectorizer.fit_transform(corpus)\n",
        "\n",
        "print(vectorizer.get_feature_names_out())\n",
        "\n",
        "print(x.toarray())\n",
        "\n",
        "vectorizer1 = TfidfVectorizer()\n",
        "\n",
        "x1 = vectorizer1.fit_transform(corpus)\n",
        "\n",
        "print(vectorizer1.get_feature_names_out())\n",
        "print(x1.toarray())"
      ],
      "metadata": {
        "colab": {
          "base_uri": "https://localhost:8080/"
        },
        "id": "V6qk_oj14auG",
        "outputId": "063ac6db-314f-49c4-9d16-b64ebe7512e2"
      },
      "execution_count": null,
      "outputs": [
        {
          "output_type": "stream",
          "name": "stdout",
          "text": [
            "['about' 'ai' 'am' 'college' 'hate' 'learn' 'learning' 'llm' 'my' 'to'\n",
            " 'want']\n",
            "[[0 1 0 0 0 1 0 0 0 1 1]\n",
            " [1 0 1 0 0 0 1 1 0 0 0]\n",
            " [0 0 0 1 1 0 0 0 1 0 0]]\n",
            "['about' 'ai' 'am' 'college' 'hate' 'learn' 'learning' 'llm' 'my' 'to'\n",
            " 'want']\n",
            "[[0.         0.5        0.         0.         0.         0.5\n",
            "  0.         0.         0.         0.5        0.5       ]\n",
            " [0.5        0.         0.5        0.         0.         0.\n",
            "  0.5        0.5        0.         0.         0.        ]\n",
            " [0.         0.         0.         0.57735027 0.57735027 0.\n",
            "  0.         0.         0.57735027 0.         0.        ]]\n"
          ]
        }
      ]
    }
  ]
}